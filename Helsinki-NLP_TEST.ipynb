{
 "cells": [
  {
   "cell_type": "code",
   "execution_count": 3,
   "id": "04cf1b2a-89cd-4fe4-aac2-59903e60b610",
   "metadata": {},
   "outputs": [
    {
     "name": "stdout",
     "output_type": "stream",
     "text": [
      "# conda environments:\n",
      "#\n",
      "VAdepthENV               /home/013907062/.conda/envs/VAdepthENV\n",
      "cmpe249                  /home/013907062/.conda/envs/cmpe249\n",
      "env_onmttf               /home/013907062/.conda/envs/env_onmttf\n",
      "hawaii                   /home/013907062/.conda/envs/hawaii\n",
      "hawaii_hf             *  /home/013907062/.conda/envs/hawaii_hf\n",
      "koen_base                /home/013907062/.conda/envs/koen_base\n",
      "newDepth                 /home/013907062/.conda/envs/newDepth\n",
      "seamless                 /home/013907062/.conda/envs/seamless\n",
      "test                     /home/013907062/.conda/envs/test\n",
      "wmt_infer                /home/013907062/.conda/envs/wmt_infer\n",
      "base                     /opt/ohpc/pub/apps/anaconda/3.9\n",
      "stylegan2                /opt/ohpc/pub/apps/anaconda/3.9/envs/stylegan2\n",
      "\n"
     ]
    }
   ],
   "source": [
    "!conda env list"
   ]
  },
  {
   "cell_type": "code",
   "execution_count": 4,
   "id": "7d921d04-b555-4ab5-b662-6207a82754a7",
   "metadata": {},
   "outputs": [
    {
     "name": "stdout",
     "output_type": "stream",
     "text": [
      "Looking in indexes: https://pypi.org/simple, https://pypi.ngc.nvidia.com\n",
      "Collecting sentencepiece\n",
      "  Downloading sentencepiece-0.1.99-cp39-cp39-manylinux_2_17_x86_64.manylinux2014_x86_64.whl (1.3 MB)\n",
      "\u001b[2K     \u001b[90m━━━━━━━━━━━━━━━━━━━━━━━━━━━━━━━━━━━━━━━━\u001b[0m \u001b[32m1.3/1.3 MB\u001b[0m \u001b[31m26.8 MB/s\u001b[0m eta \u001b[36m0:00:00\u001b[0m \u001b[36m0:00:01\u001b[0m\n",
      "\u001b[?25hInstalling collected packages: sentencepiece\n",
      "Successfully installed sentencepiece-0.1.99\n"
     ]
    }
   ],
   "source": [
    "!pip install sentencepiece"
   ]
  },
  {
   "cell_type": "markdown",
   "id": "6ac18787-a499-4c72-8796-dd09243f855d",
   "metadata": {},
   "source": [
    "## TEST for English Tagalog"
   ]
  },
  {
   "cell_type": "code",
   "execution_count": 47,
   "id": "ab7c0d5f-4e89-4fa4-ac5d-e7816e725f19",
   "metadata": {},
   "outputs": [
    {
     "data": {
      "text/plain": [
       "[{'translation_text': 'Paglubog sa pinalawak na mga sinulid'}]"
      ]
     },
     "execution_count": 47,
     "metadata": {},
     "output_type": "execute_result"
    }
   ],
   "source": [
    "from transformers import pipeline\n",
    "from transformers import AutoTokenizer\n",
    "\n",
    "#https://huggingface.co/Helsinki-NLP\n",
    "'''\n",
    "Pipeline supports running on CPU or GPU through the device argument.\n",
    "Users can specify device argument as an integer, -1 meaning “CPU”, >= 0 referring the CUDA device ordinal.\n",
    "'''\n",
    "model_checkpoint = \"Helsinki-NLP/opus-mt-en-tl\"\n",
    "\n",
    "tokenizer = AutoTokenizer.from_pretrained(model_checkpoint, return_tensors=\"pt\")\n",
    "translator = pipeline(\"translation\", model=model_checkpoint)\n",
    "translator(\"Default to expanded threads\")"
   ]
  },
  {
   "cell_type": "code",
   "execution_count": 48,
   "id": "57f9b781-2483-4558-bd18-197bd7f4edbf",
   "metadata": {},
   "outputs": [],
   "source": [
    "with open('jmbt22_tatoeba-en-tgl.en') as f:\n",
    "    en_sentence = f.readlines()\n",
    "\n",
    "with open('jmbt22_tatoeba-en-tgl.tl') as f:\n",
    "    tl_sentence = f.readlines()"
   ]
  },
  {
   "cell_type": "code",
   "execution_count": 30,
   "id": "04817de8-fcbd-4de2-a9e1-4db0d75801ad",
   "metadata": {},
   "outputs": [],
   "source": [
    "from tqdm import tqdm\n",
    "import time"
   ]
  },
  {
   "cell_type": "code",
   "execution_count": 33,
   "id": "4e4c558d-3208-4d77-8fca-cac9681a6905",
   "metadata": {},
   "outputs": [
    {
     "name": "stderr",
     "output_type": "stream",
     "text": [
      "100%|██████████| 7300/7300 [20:52<00:00,  5.83it/s]\n"
     ]
    }
   ],
   "source": [
    "# English to Tagalog\n",
    "\n",
    "results_eng2tgl = []\n",
    "\n",
    "for idx, line in enumerate(tqdm(en_sentence)): \n",
    "    translated_text = translator(line)\n",
    "    results_eng2tgl.append(translated_text)\n",
    "\n",
    "with open(\"Helsinki-NLP_jmbt22_tatoeba-en-tgl.pred.eng2tgl\", \"w\") as file:\n",
    "    for row in results_eng2tgl:\n",
    "        if len(row) != 0:\n",
    "            file.write(str(row) + '\\n')\n"
   ]
  },
  {
   "cell_type": "code",
   "execution_count": 50,
   "id": "6df08d20-6756-42da-beb1-6bd7d54812a4",
   "metadata": {},
   "outputs": [
    {
     "name": "stdout",
     "output_type": "stream",
     "text": [
      "7300\n"
     ]
    }
   ],
   "source": [
    "with open('Helsinki-NLP_jmbt22_tatoeba-en-tgl.pred.eng2tgl') as f:\n",
    "    en_preds = f.readlines()\n",
    "\n",
    "print(len(en_preds))\n",
    "\n",
    "with open(\"Helsinki-NLP_jmbt22_tatoeba-en-tgl.pred.eng2tgl_refine\", \"w\") as file:\n",
    "    for pred in en_preds:\n",
    "        file.write(pred[23:-4]+'\\n')"
   ]
  },
  {
   "cell_type": "code",
   "execution_count": 51,
   "id": "9c5c7642-b3bf-4740-ac37-9df8dcb115c4",
   "metadata": {},
   "outputs": [
    {
     "name": "stdout",
     "output_type": "stream",
     "text": [
      "{\n",
      " \"name\": \"BLEU\",\n",
      " \"score\": 26.4,\n",
      " \"signature\": \"nrefs:1|case:mixed|eff:no|tok:13a|smooth:exp|version:2.3.1\",\n",
      " \"verbose_score\": \"56.7/31.8/20.5/13.2 (BP = 1.000 ratio = 1.091 hyp_len = 56810 ref_len = 52063)\",\n",
      " \"nrefs\": \"1\",\n",
      " \"case\": \"mixed\",\n",
      " \"eff\": \"no\",\n",
      " \"tok\": \"13a\",\n",
      " \"smooth\": \"exp\",\n",
      " \"version\": \"2.3.1\"\n",
      "}\n",
      "\u001b[0m"
     ]
    }
   ],
   "source": [
    "!sacrebleu jmbt22_tatoeba-en-tgl.tl < Helsinki-NLP_jmbt22_tatoeba-en-tgl.pred.eng2tgl_refine"
   ]
  },
  {
   "cell_type": "code",
   "execution_count": 52,
   "id": "5f86d5d1-1b00-48d3-a7c2-edeea67e2e79",
   "metadata": {},
   "outputs": [
    {
     "data": {
      "text/plain": [
       "[{'translation_text': 'Dipping out the expanded threads'}]"
      ]
     },
     "execution_count": 52,
     "metadata": {},
     "output_type": "execute_result"
    }
   ],
   "source": [
    "# Tagalog To English download\n",
    "\n",
    "model_checkpoint = \"Helsinki-NLP/opus-mt-tl-en\"\n",
    "\n",
    "tokenizerTlEn = AutoTokenizer.from_pretrained(model_checkpoint, return_tensors=\"pt\")\n",
    "translatorTlEn = pipeline(\"translation\", model=model_checkpoint)\n",
    "translatorTlEn(\"Paglubog sa pinalawak na mga sinulid\")"
   ]
  },
  {
   "cell_type": "code",
   "execution_count": 55,
   "id": "2ec72878-f0d4-4109-8232-67b0b6bbd291",
   "metadata": {},
   "outputs": [
    {
     "name": "stderr",
     "output_type": "stream",
     "text": [
      "100%|██████████| 7300/7300 [25:29<00:00,  4.77it/s]\n"
     ]
    }
   ],
   "source": [
    "# Tagalog To English inference\n",
    "results_tgl2eng = []\n",
    "\n",
    "for idx, line in enumerate(tqdm(tl_sentence)): \n",
    "    translated_text = translatorTlEn(line)\n",
    "    results_tgl2eng.append(translated_text[0]['translation_text'])\n",
    "\n",
    "\n",
    "with open(\"Helsinki-NLP_jmbt22_tatoeba-en-tgl.pred.tgl2eng\", \"w\") as file:\n",
    "    for row in results_tgl2eng:\n",
    "        if len(row) != 0:\n",
    "            file.write(str(row) + '\\n')\n"
   ]
  },
  {
   "cell_type": "code",
   "execution_count": 56,
   "id": "5b3fef03-4cab-4122-a28b-b3af8c2869f2",
   "metadata": {},
   "outputs": [
    {
     "name": "stdout",
     "output_type": "stream",
     "text": [
      "{\n",
      " \"name\": \"BLEU\",\n",
      " \"score\": 35.1,\n",
      " \"signature\": \"nrefs:1|case:mixed|eff:no|tok:13a|smooth:exp|version:2.3.1\",\n",
      " \"verbose_score\": \"66.0/41.5/29.2/20.9 (BP = 0.976 ratio = 0.977 hyp_len = 51848 ref_len = 53094)\",\n",
      " \"nrefs\": \"1\",\n",
      " \"case\": \"mixed\",\n",
      " \"eff\": \"no\",\n",
      " \"tok\": \"13a\",\n",
      " \"smooth\": \"exp\",\n",
      " \"version\": \"2.3.1\"\n",
      "}\n",
      "\u001b[0m"
     ]
    }
   ],
   "source": [
    "!sacrebleu jmbt22_tatoeba-en-tgl.en < Helsinki-NLP_jmbt22_tatoeba-en-tgl.pred.tgl2eng"
   ]
  },
  {
   "cell_type": "markdown",
   "id": "4d623181-5c23-4a28-8a1b-eabf8bc5d171",
   "metadata": {},
   "source": [
    "### dataset flores200_devtest"
   ]
  },
  {
   "cell_type": "code",
   "execution_count": 57,
   "id": "8faaac3d-8cc2-4f0b-82e9-4599a920ac31",
   "metadata": {},
   "outputs": [
    {
     "name": "stdout",
     "output_type": "stream",
     "text": [
      "1012\n",
      "1012\n"
     ]
    }
   ],
   "source": [
    "file_eng = \"dataset_evaluation/flores200_dataset/devtest/eng_Latn.devtest\"\n",
    "file_tgl = \"dataset_evaluation/flores200_dataset/devtest/tgl_Latn.devtest\"\n",
    "\n",
    "with open(file_eng) as f:\n",
    "    en_sentence = f.readlines()\n",
    "\n",
    "with open(file_tgl) as f:\n",
    "    tl_sentence = f.readlines()\n",
    "\n",
    "print(len(en_sentence))\n",
    "print(len(tl_sentence))"
   ]
  },
  {
   "cell_type": "code",
   "execution_count": 63,
   "id": "5535d04d-7138-4cc4-a4d7-48443caa137e",
   "metadata": {},
   "outputs": [
    {
     "name": "stderr",
     "output_type": "stream",
     "text": [
      "100%|██████████| 1012/1012 [14:06<00:00,  1.19it/s]\n"
     ]
    },
    {
     "name": "stdout",
     "output_type": "stream",
     "text": [
      "sacreBLEU: System and reference streams have different lengths.\n",
      "\u001b[0m"
     ]
    }
   ],
   "source": [
    "# English to Tagalog\n",
    "\n",
    "results_eng2tgl = []\n",
    "\n",
    "for idx, line in enumerate(tqdm(en_sentence)): \n",
    "    translated_text = translator(line)\n",
    "    results_eng2tgl.append(translated_text[0]['translation_text'])\n",
    "\n",
    "with open(\"Helsinki-NLP_flores200_dataset-en-tgl.pred.eng2tgl\", \"w\") as file:\n",
    "    for row in results_eng2tgl:\n",
    "        file.write(str(row) + '\\n')"
   ]
  },
  {
   "cell_type": "code",
   "execution_count": 65,
   "id": "8aa99b22-dc4c-494d-b95b-7c07ae6cc1cc",
   "metadata": {},
   "outputs": [
    {
     "name": "stdout",
     "output_type": "stream",
     "text": [
      "{\n",
      " \"name\": \"BLEU\",\n",
      " \"score\": 34.5,\n",
      " \"signature\": \"nrefs:1|case:mixed|eff:no|tok:13a|smooth:exp|version:2.3.1\",\n",
      " \"verbose_score\": \"67.5/41.8/28.1/19.5 (BP = 0.978 ratio = 0.978 hyp_len = 28961 ref_len = 29603)\",\n",
      " \"nrefs\": \"1\",\n",
      " \"case\": \"mixed\",\n",
      " \"eff\": \"no\",\n",
      " \"tok\": \"13a\",\n",
      " \"smooth\": \"exp\",\n",
      " \"version\": \"2.3.1\"\n",
      "}\n",
      "\u001b[0m"
     ]
    }
   ],
   "source": [
    "#file_eng = \"dataset_evaluation/flores200_dataset/devtest/eng_Latn.devtest\"\n",
    "#file_tgl = \"dataset_evaluation/flores200_dataset/devtest/tgl_Latn.devtest\"\n",
    "\n",
    "!sacrebleu dataset_evaluation/flores200_dataset/devtest/tgl_Latn.devtest < Helsinki-NLP_flores200_dataset-en-tgl.pred.eng2tgl"
   ]
  },
  {
   "cell_type": "code",
   "execution_count": 69,
   "id": "0d984a20-c80c-45cf-8f05-613b2d8499be",
   "metadata": {},
   "outputs": [
    {
     "name": "stderr",
     "output_type": "stream",
     "text": [
      "100%|██████████| 1012/1012 [16:00<00:00,  1.05it/s]\n"
     ]
    },
    {
     "name": "stdout",
     "output_type": "stream",
     "text": [
      "{\n",
      " \"name\": \"BLEU\",\n",
      " \"score\": 34.5,\n",
      " \"signature\": \"nrefs:1|case:mixed|eff:no|tok:13a|smooth:exp|version:2.3.1\",\n",
      " \"verbose_score\": \"65.4/41.0/27.7/19.1 (BP = 1.000 ratio = 1.023 hyp_len = 25285 ref_len = 24721)\",\n",
      " \"nrefs\": \"1\",\n",
      " \"case\": \"mixed\",\n",
      " \"eff\": \"no\",\n",
      " \"tok\": \"13a\",\n",
      " \"smooth\": \"exp\",\n",
      " \"version\": \"2.3.1\"\n",
      "}\n",
      "\u001b[0m"
     ]
    }
   ],
   "source": [
    "# Tagalog To English inference\n",
    "results_tgl2eng = []\n",
    "\n",
    "for idx, line in enumerate(tqdm(tl_sentence)): \n",
    "    translated_text = translatorTlEn(line)\n",
    "    results_tgl2eng.append(translated_text[0]['translation_text'])\n",
    "\n",
    "with open(\"Helsinki-NLP_flores200_dataset-en-tgl.pred.tgl2eng\", \"w\") as file:\n",
    "    for row in results_tgl2eng:\n",
    "        file.write(str(row) + '\\n')\n",
    "\n",
    "!sacrebleu dataset_evaluation/flores200_dataset/devtest/eng_Latn.devtest < Helsinki-NLP_flores200_dataset-en-tgl.pred.tgl2eng"
   ]
  },
  {
   "cell_type": "markdown",
   "id": "adf012ea-bcbb-49bc-abf1-d537e92f5448",
   "metadata": {
    "jp-MarkdownHeadingCollapsed": true
   },
   "source": [
    "## Test set preprocessing"
   ]
  },
  {
   "cell_type": "code",
   "execution_count": 18,
   "id": "a3f0da1b-ac16-4db1-925d-dbd846b06865",
   "metadata": {},
   "outputs": [],
   "source": [
    "with open('jmbt22_tatoeba-en-tgl.en') as f:\n",
    "    en_sentence = f.readlines()\n",
    "\n",
    "with open('jmbt22_tatoeba-en-tgl.tl') as f:\n",
    "    tl_sentence = f.readlines()"
   ]
  },
  {
   "cell_type": "code",
   "execution_count": 24,
   "id": "757605db-4d77-475b-a15d-d900b754901a",
   "metadata": {
    "scrolled": true
   },
   "outputs": [],
   "source": [
    "tokenized_sentences = tokenizer(\n",
    "        en_sentence, text_target=tl_sentence, max_length=512, truncation=True\n",
    "    )"
   ]
  },
  {
   "cell_type": "code",
   "execution_count": 25,
   "id": "2c7cf5e2-5474-4640-80ae-731d61061392",
   "metadata": {},
   "outputs": [
    {
     "name": "stdout",
     "output_type": "stream",
     "text": [
      "[33, 51, 12, 429, 12, 2457, 3, 0]\n",
      "[1, 1, 1, 1, 1, 1, 1, 1]\n",
      "[1160, 80, 56, 8302, 3, 0]\n"
     ]
    }
   ],
   "source": [
    "print((tokenized_sentences[\"input_ids\"][1]))\n",
    "print((tokenized_sentences[\"attention_mask\"][1]))\n",
    "print((tokenized_sentences[\"labels\"][1]))"
   ]
  },
  {
   "cell_type": "code",
   "execution_count": 27,
   "id": "51fd07da-a87f-45f2-add0-19b557449e3f",
   "metadata": {},
   "outputs": [
    {
     "data": {
      "text/plain": [
       "DatasetDict({\n",
       "    test: Dataset({\n",
       "        features: ['input_ids', 'attention_mask', 'labels'],\n",
       "        num_rows: 7300\n",
       "    })\n",
       "})"
      ]
     },
     "execution_count": 27,
     "metadata": {},
     "output_type": "execute_result"
    }
   ],
   "source": [
    "from datasets.dataset_dict import DatasetDict\n",
    "from datasets import Dataset\n",
    "\n",
    "d = {'test':Dataset.from_dict({'input_ids':tokenized_sentences[\"input_ids\"],\n",
    "                               'attention_mask':tokenized_sentences[\"attention_mask\"],\n",
    "                               'labels':tokenized_sentences[\"labels\"]})\n",
    "    }\n",
    "eval_dataset_dic = DatasetDict(d)\n",
    "eval_dataset_dic"
   ]
  },
  {
   "cell_type": "code",
   "execution_count": null,
   "id": "73e54aee-9bca-46c4-bf16-8480bd70e7d2",
   "metadata": {},
   "outputs": [],
   "source": [
    "import numpy as np\n",
    "def compute_metrics(eval_preds):\n",
    "    preds, labels = eval_preds\n",
    "    # In case the model returns more than the prediction logits\n",
    "    if isinstance(preds, tuple):\n",
    "        preds = preds[0]\n",
    "\n",
    "    decoded_preds = tokenizer.batch_decode(preds, skip_special_tokens=True)\n",
    "\n",
    "    # Replace -100s in the labels as we can't decode them\n",
    "    labels = np.where(labels != -100, labels, tokenizer.pad_token_id)\n",
    "    decoded_labels = tokenizer.batch_decode(labels, skip_special_tokens=True)\n",
    "\n",
    "    # Some simple post-processing\n",
    "    decoded_preds = [pred.strip() for pred in decoded_preds]\n",
    "    decoded_labels = [[label.strip()] for label in decoded_labels]\n",
    "\n",
    "    result = metric.compute(predictions=decoded_preds, references=decoded_labels)\n",
    "    return {\"bleu\": result[\"score\"]}"
   ]
  },
  {
   "cell_type": "code",
   "execution_count": null,
   "id": "92cdbb2a-d2aa-411a-9cec-06e21d206525",
   "metadata": {},
   "outputs": [],
   "source": [
    "from torch.utils.data import DataLoader\n",
    "from transformers import DataCollatorForSeq2Seq\n",
    "\n",
    "data_collator = DataCollatorForSeq2Seq(tokenizer=tokenizer, model=checkpoint)\n",
    "\n",
    "eval_dataset_dic.set_format(\"torch\")\n",
    "eval_dataloader = DataLoader(\n",
    "    eval_dataset_dic[\"test\"], collate_fn=data_collator, batch_size=8\n",
    ")\n"
   ]
  }
 ],
 "metadata": {
  "kernelspec": {
   "display_name": "Python 3",
   "language": "python",
   "name": "python3"
  },
  "language_info": {
   "codemirror_mode": {
    "name": "ipython",
    "version": 3
   },
   "file_extension": ".py",
   "mimetype": "text/x-python",
   "name": "python",
   "nbconvert_exporter": "python",
   "pygments_lexer": "ipython3",
   "version": "3.9.18"
  }
 },
 "nbformat": 4,
 "nbformat_minor": 5
}
